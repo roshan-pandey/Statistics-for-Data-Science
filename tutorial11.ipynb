{
  "nbformat": 4,
  "nbformat_minor": 0,
  "metadata": {
    "colab": {
      "provenance": []
    },
    "kernelspec": {
      "name": "python3",
      "display_name": "Python 3"
    },
    "language_info": {
      "name": "python"
    }
  },
  "cells": [
    {
      "cell_type": "markdown",
      "source": [
        "# Binomial Distribution "
      ],
      "metadata": {
        "id": "tLsbDFXfphRh"
      }
    },
    {
      "cell_type": "markdown",
      "source": [
        "Q1. If 20% of the customers are willing to buy a product what is the probability that **at least** 25 out of 100 customers will make the order?"
      ],
      "metadata": {
        "id": "vrSAEdALpqJ_"
      }
    },
    {
      "cell_type": "code",
      "execution_count": 3,
      "metadata": {
        "colab": {
          "base_uri": "https://localhost:8080/"
        },
        "id": "fCYC0OVBnpcZ",
        "outputId": "656a9324-6f47-436c-d122-a5f7eecd16c2"
      },
      "outputs": [
        {
          "output_type": "stream",
          "name": "stdout",
          "text": [
            "The probability of at least 25 out of 100 customers buying the product is: 0.13135321733298855\n"
          ]
        }
      ],
      "source": [
        "from scipy.stats import binom\n",
        "\n",
        "# Define the number of trials (n) and probability of success (p)\n",
        "n = 100\n",
        "p = 0.2\n",
        "\n",
        "# Define the lower limit of the number of successes we want to calculate the probability for\n",
        "k = 25\n",
        "\n",
        "# Calculate the probability of at least k successes using the binomial distribution\n",
        "prob = 1 - binom.cdf(k-1, n, p)\n",
        "\n",
        "print(f\"The probability of at least 25 out of 100 customers buying the product is: {prob}\")"
      ]
    },
    {
      "cell_type": "markdown",
      "source": [
        "Q2. If 20% of the customers are willing to buy a product what is the probability that **exactly** 25 out of 100 customers will make the order?"
      ],
      "metadata": {
        "id": "q2SFcD5Ip-Dn"
      }
    },
    {
      "cell_type": "code",
      "source": [
        "from scipy.stats import binom\n",
        "\n",
        "# Define the number of trials (n) and probability of success (p)\n",
        "n = 100\n",
        "p = 0.2\n",
        "\n",
        "# Define the number of successes we want to calculate the probability for\n",
        "k = 25\n",
        "\n",
        "# Calculate the probability of exactly k successes using the binomial distribution\n",
        "prob = binom.pmf(k, n, p)\n",
        "\n",
        "print(f\"The probability of exactly 25 out of 100 customers buying the product is: {prob}\")"
      ],
      "metadata": {
        "colab": {
          "base_uri": "https://localhost:8080/"
        },
        "id": "5GIv7VdMot_1",
        "outputId": "83934a00-b689-4d06-aa79-3716a67cfdd5"
      },
      "execution_count": 6,
      "outputs": [
        {
          "output_type": "stream",
          "name": "stdout",
          "text": [
            "The probability of exactly 25 out of 100 customers buying the product is: 0.04387783268941563\n"
          ]
        }
      ]
    },
    {
      "cell_type": "markdown",
      "source": [
        "# Task\n",
        "\n",
        "Generate binomial random variable and plot its Probability Mass Function (PMF). <br>\n",
        "HINT: Use numpy.random.binomial"
      ],
      "metadata": {
        "id": "RlNcRy1fq3SU"
      }
    },
    {
      "cell_type": "code",
      "source": [],
      "metadata": {
        "id": "6ZtltMFcrZWy"
      },
      "execution_count": null,
      "outputs": []
    }
  ]
}